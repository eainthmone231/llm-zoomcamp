{
 "cells": [
  {
   "cell_type": "code",
   "execution_count": 5,
   "metadata": {},
   "outputs": [
    {
     "name": "stdout",
     "output_type": "stream",
     "text": [
      "Integer value: 42\n",
      "Integer type: <class 'int'>\n",
      "\n",
      "Float value: 3.14\n",
      "Float type: <class 'float'>\n",
      "\n",
      "String value: Hello, World!\n",
      "String type: <class 'str'>\n",
      "\n",
      "List value: [1, 2, 3, 4, 5]\n",
      "List type: <class 'list'>\n",
      "\n",
      "Tuple value: (1, 2, 3, 4, 5)\n",
      "Tuple type: <class 'tuple'>\n",
      "\n",
      "Set value: {1, 2, 3, 4, 5}\n",
      "Set type: <class 'set'>\n",
      "\n",
      "Dictionary value: {'name': 'Alice', 'age': 30, 'city': 'Wonderland'}\n",
      "Dictionary type: <class 'dict'>\n"
     ]
    }
   ],
   "source": [
    "# Integer\n",
    "int_var = 42\n",
    "print(\"Integer value:\", int_var)\n",
    "print(\"Integer type:\", type(int_var))\n",
    "\n",
    "# Floating-point number\n",
    "float_var = 3.14\n",
    "print(\"\\nFloat value:\", float_var)\n",
    "print(\"Float type:\", type(float_var))\n",
    "\n",
    "# String\n",
    "str_var = \"Hello, World!\"\n",
    "print(\"\\nString value:\", str_var)\n",
    "print(\"String type:\", type(str_var))\n",
    "\n",
    "# List\n",
    "list_var = [1, 2, 3, 4, 5]\n",
    "print(\"\\nList value:\", list_var)\n",
    "print(\"List type:\", type(list_var))\n",
    "\n",
    "# Tuple\n",
    "tuple_var = (1, 2, 3, 4, 5)\n",
    "print(\"\\nTuple value:\", tuple_var)\n",
    "print(\"Tuple type:\", type(tuple_var))\n",
    "\n",
    "# Set\n",
    "set_var = {1, 2, 3, 4, 5}\n",
    "print(\"\\nSet value:\", set_var)\n",
    "print(\"Set type:\", type(set_var))\n",
    "\n",
    "# Dictionary\n",
    "dict_var = {\"name\": \"Alice\", \"age\": 30, \"city\": \"Wonderland\"}\n",
    "print(\"\\nDictionary value:\", dict_var)\n",
    "print(\"Dictionary type:\", type(dict_var))\n"
   ]
  },
  {
   "cell_type": "code",
   "execution_count": 8,
   "metadata": {},
   "outputs": [
    {
     "name": "stdout",
     "output_type": "stream",
     "text": [
      "range(0, 10)\n",
      "<class 'range'>\n",
      "<class 'NoneType'>\n"
     ]
    }
   ],
   "source": [
    "check_type = range(10)\n",
    "print(check_type)\n",
    "print(type(check_type))\n",
    "\n",
    "check_type = None\n",
    "print(type(check_type))"
   ]
  },
  {
   "cell_type": "code",
   "execution_count": 9,
   "metadata": {},
   "outputs": [
    {
     "name": "stdout",
     "output_type": "stream",
     "text": [
      "0\n",
      "1\n",
      "2\n",
      "3\n",
      "4\n",
      "5\n",
      "6\n",
      "7\n",
      "8\n",
      "9\n"
     ]
    }
   ],
   "source": [
    "#### for each loop\n",
    "for i in range(10):\n",
    "    print(i)"
   ]
  },
  {
   "cell_type": "code",
   "execution_count": 14,
   "metadata": {},
   "outputs": [
    {
     "name": "stdout",
     "output_type": "stream",
     "text": [
      "For loop:\n",
      "1\n",
      "2\n",
      "3\n",
      "4\n",
      "5\n",
      "For each loop:\n",
      "1\n",
      "2\n",
      "3\n",
      "4\n",
      "5\n"
     ]
    }
   ],
   "source": [
    "#### for loop\n",
    "a = [1,2,3,4,5]\n",
    "print(\"For loop:\")\n",
    "for i in range(len(a)):\n",
    "    print(a[i])\n",
    "\n",
    "print(\"For each loop:\")\n",
    "for i in a:\n",
    "    print(i)"
   ]
  },
  {
   "cell_type": "code",
   "execution_count": 16,
   "metadata": {},
   "outputs": [
    {
     "name": "stdout",
     "output_type": "stream",
     "text": [
      "0\n",
      "1\n",
      "2\n",
      "3\n",
      "4\n"
     ]
    }
   ],
   "source": [
    "#### While loop\n",
    "i = 0\n",
    "while i < 5:\n",
    "    print(i)\n",
    "    i = i + 1"
   ]
  },
  {
   "cell_type": "code",
   "execution_count": 18,
   "metadata": {},
   "outputs": [
    {
     "name": "stdout",
     "output_type": "stream",
     "text": [
      "hello\n",
      "is it end?\n",
      "hello\n",
      "why is it taking so long?\n"
     ]
    }
   ],
   "source": [
    "#### Do while loop\n",
    "while True:\n",
    "    input_word = input(\"Type any word: \")\n",
    "    if input_word == \"exit\":\n",
    "        break\n",
    "    print(input_word)"
   ]
  },
  {
   "cell_type": "code",
   "execution_count": 20,
   "metadata": {},
   "outputs": [],
   "source": [
    "#### Function ( Pass by Value )\n",
    "def addTwoNumber (num1,num2):\n",
    "    num1 = num1+num2\n",
    "    return num1"
   ]
  },
  {
   "cell_type": "code",
   "execution_count": 23,
   "metadata": {},
   "outputs": [
    {
     "name": "stdout",
     "output_type": "stream",
     "text": [
      "30\n",
      "10\n"
     ]
    }
   ],
   "source": [
    "num1 = 10\n",
    "num2 = 20\n",
    "print(addTwoNumber(num1,num2))\n",
    "print(num1)"
   ]
  },
  {
   "cell_type": "code",
   "execution_count": 34,
   "metadata": {},
   "outputs": [],
   "source": [
    "#### Function ( Pass by reference )\n",
    "def changeRate(rate_list):\n",
    "    for i in range(len(rate_list)):\n",
    "        rate_list[i] = rate_list[i]*10\n",
    "    # return rate_list"
   ]
  },
  {
   "cell_type": "code",
   "execution_count": 36,
   "metadata": {},
   "outputs": [
    {
     "name": "stdout",
     "output_type": "stream",
     "text": [
      "first number :  [2, 3, 4]\n"
     ]
    }
   ],
   "source": [
    "rate_list = [2,3,4]\n",
    "print('first number : ',rate_list)\n",
    "changeRate(rate_list)\n",
    "#print(rate_list)\n",
    "rate_list = changeRate(rate_list)"
   ]
  },
  {
   "cell_type": "code",
   "execution_count": 44,
   "metadata": {},
   "outputs": [],
   "source": [
    "# Best Practice\n",
    "def changeRate ( rate_list : list , rate = 0) -> list:\n",
    "    temp_list = []\n",
    "    for i in range(len(rate_list)):\n",
    "        temp_list.append(rate_list[i]*rate)\n",
    "    return temp_list"
   ]
  },
  {
   "cell_type": "code",
   "execution_count": 45,
   "metadata": {},
   "outputs": [
    {
     "data": {
      "text/plain": [
       "[0, 0, 0]"
      ]
     },
     "execution_count": 45,
     "metadata": {},
     "output_type": "execute_result"
    }
   ],
   "source": [
    "rate_list = [2,3,4]\n",
    "result = changeRate(rate_list)\n",
    "result"
   ]
  },
  {
   "cell_type": "code",
   "execution_count": null,
   "metadata": {},
   "outputs": [],
   "source": []
  }
 ],
 "metadata": {
  "kernelspec": {
   "display_name": "dev_env",
   "language": "python",
   "name": "python3"
  },
  "language_info": {
   "codemirror_mode": {
    "name": "ipython",
    "version": 3
   },
   "file_extension": ".py",
   "mimetype": "text/x-python",
   "name": "python",
   "nbconvert_exporter": "python",
   "pygments_lexer": "ipython3",
   "version": "3.10.0"
  }
 },
 "nbformat": 4,
 "nbformat_minor": 2
}
